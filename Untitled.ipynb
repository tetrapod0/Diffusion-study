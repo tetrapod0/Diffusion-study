{
 "cells": [
  {
   "cell_type": "code",
   "execution_count": 2,
   "id": "ddd09ba7-eb38-42a0-bd13-94fe939b2e58",
   "metadata": {},
   "outputs": [],
   "source": [
    "import torch"
   ]
  },
  {
   "cell_type": "code",
   "execution_count": 4,
   "id": "dd8809db-0d34-4c78-a3cb-43f078d1ea9b",
   "metadata": {},
   "outputs": [
    {
     "data": {
      "text/plain": [
       "torch.Size([2, 3, 4, 5])"
      ]
     },
     "execution_count": 4,
     "metadata": {},
     "output_type": "execute_result"
    }
   ],
   "source": [
    "z = torch.zeros([2,3,4,5])\n",
    "z.shape"
   ]
  },
  {
   "cell_type": "code",
   "execution_count": 10,
   "id": "9080adf7-0c88-4bf8-9029-63522c04f96a",
   "metadata": {},
   "outputs": [
    {
     "data": {
      "text/plain": [
       "torch.Size([2, 1, 3, 4, 5])"
      ]
     },
     "execution_count": 10,
     "metadata": {},
     "output_type": "execute_result"
    }
   ],
   "source": [
    "z.unsqueeze(1).shape"
   ]
  },
  {
   "cell_type": "code",
   "execution_count": 11,
   "id": "06e69bd1-a27c-44f4-a65a-47cd0a8ffa3b",
   "metadata": {},
   "outputs": [
    {
     "data": {
      "text/plain": [
       "torch.Size([2, 1, 3, 4, 5])"
      ]
     },
     "execution_count": 11,
     "metadata": {},
     "output_type": "execute_result"
    }
   ],
   "source": [
    "torch.nn.functional.normalize(z.unsqueeze(1), dim=2).shape"
   ]
  },
  {
   "cell_type": "code",
   "execution_count": 31,
   "id": "cddc9019-5bb7-4887-adf0-35d7bbd4002e",
   "metadata": {},
   "outputs": [
    {
     "data": {
      "text/plain": [
       "torch.Size([2, 3, 4, 5, 6])"
      ]
     },
     "execution_count": 31,
     "metadata": {},
     "output_type": "execute_result"
    }
   ],
   "source": [
    "z.view(2,3,4,5,1).expand(2,3,4,5,6).shape"
   ]
  },
  {
   "cell_type": "code",
   "execution_count": 15,
   "id": "cde4557f-3cc4-4b33-8680-543d253aebc1",
   "metadata": {},
   "outputs": [],
   "source": [
    "# @markdown load a CLIP model and define the loss function\n",
    "import torchvision\n",
    "import torch\n",
    "import open_clip\n",
    "\n",
    "clip_model, _, preprocess = open_clip.create_model_and_transforms(\n",
    "    \"ViT-B-32\", pretrained=\"openai\"\n",
    ")\n",
    "# device = 'cuda'\n",
    "clip_model.to(device)\n",
    "\n",
    "# Transforms to resize and augment an image + normalize to match CLIP's training data\n",
    "tfms = torchvision.transforms.Compose(\n",
    "    [\n",
    "        torchvision.transforms.RandomResizedCrop(224),  # Random CROP each time\n",
    "        torchvision.transforms.RandomAffine(\n",
    "            5\n",
    "        ),  # One possible random augmentation: skews the image\n",
    "        torchvision.transforms.RandomHorizontalFlip(),  # You can add additional augmentations if you like\n",
    "        torchvision.transforms.Normalize(\n",
    "            mean=(0.48145466, 0.4578275, 0.40821073),\n",
    "            std=(0.26862954, 0.26130258, 0.27577711),\n",
    "        ),\n",
    "    ]\n",
    ")\n",
    "\n",
    "# And define a loss function that takes an image, embeds it and compares with\n",
    "# the text features of the prompt\n",
    "def clip_loss(image, text_features):\n",
    "    image_features = clip_model.encode_image(\n",
    "        tfms(image)\n",
    "    )  # Note: applies the above transforms\n",
    "    input_normed = torch.nn.functional.normalize(image_features.unsqueeze(1), dim=2)\n",
    "    embed_normed = torch.nn.functional.normalize(text_features.unsqueeze(0), dim=2)\n",
    "    dists = (\n",
    "        input_normed.sub(embed_normed).norm(dim=2).div(2).arcsin().pow(2).mul(2)\n",
    "    )  # Squared Great Circle Distance\n",
    "    return dists.mean()"
   ]
  },
  {
   "cell_type": "code",
   "execution_count": 17,
   "id": "a68d9466-9bea-481f-a9d5-6b979a381cb7",
   "metadata": {},
   "outputs": [
    {
     "name": "stderr",
     "output_type": "stream",
     "text": [
      "C:\\_MAIN\\__Private\\_SPACE\\env\\diffusion_\\Lib\\site-packages\\torch\\nn\\functional.py:5504: UserWarning: 1Torch was not compiled with flash attention. (Triggered internally at ..\\aten\\src\\ATen\\native\\transformers\\cuda\\sdp_utils.cpp:455.)\n",
      "  attn_output = scaled_dot_product_attention(q, k, v, attn_mask, dropout_p, is_causal)\n"
     ]
    }
   ],
   "source": [
    "# @markdown applying guidance using CLIP\n",
    "\n",
    "prompt = \"Red Rose (still life), red flower painting\"  # @param\n",
    "\n",
    "# Explore changing this\n",
    "guidance_scale = 8  # @param\n",
    "n_cuts = 4  # @param\n",
    "\n",
    "# More steps -> more time for the guidance to have an effect\n",
    "# scheduler.set_timesteps(50)\n",
    "\n",
    "# We embed a prompt with CLIP as our target\n",
    "text = open_clip.tokenize([prompt]).to(device)\n",
    "with torch.no_grad(), torch.cuda.amp.autocast():\n",
    "    text_features = clip_model.encode_text(text)\n"
   ]
  },
  {
   "cell_type": "code",
   "execution_count": 18,
   "id": "73dbe8c3-69c9-4d03-8dec-5d9e2f370fce",
   "metadata": {},
   "outputs": [
    {
     "data": {
      "text/plain": [
       "torch.Size([1, 512])"
      ]
     },
     "execution_count": 18,
     "metadata": {},
     "output_type": "execute_result"
    }
   ],
   "source": [
    "text_features.shape"
   ]
  },
  {
   "cell_type": "code",
   "execution_count": 19,
   "id": "82f66e6e-dbd7-4a43-9fad-ff7f070bb916",
   "metadata": {},
   "outputs": [
    {
     "data": {
      "text/plain": [
       "torch.Size([4, 512])"
      ]
     },
     "execution_count": 19,
     "metadata": {},
     "output_type": "execute_result"
    }
   ],
   "source": [
    "\n",
    "image = torch.randn(4, 3, 256, 256).to(\n",
    "    device\n",
    ")  # RAM usage is high, you may want only 1 image at a time\n",
    "\n",
    "image_features = clip_model.encode_image(\n",
    "    tfms(image)\n",
    ")  # Note: applies the above transforms\n",
    "\n",
    "image_features.shape"
   ]
  },
  {
   "cell_type": "code",
   "execution_count": 25,
   "id": "239572af-d944-46b3-8905-94503c860261",
   "metadata": {},
   "outputs": [
    {
     "data": {
      "text/plain": [
       "tensor(0.0690, device='cuda:0', grad_fn=<SelectBackward0>)"
      ]
     },
     "execution_count": 25,
     "metadata": {},
     "output_type": "execute_result"
    }
   ],
   "source": [
    "\n",
    "image_features = clip_model.encode_image(\n",
    "    tfms(image)\n",
    ")  # Note: applies the above transforms\n",
    "\n",
    "\n",
    "image_features[0,0]"
   ]
  },
  {
   "cell_type": "code",
   "execution_count": null,
   "id": "dfaf87fe-d2a2-4c61-9e64-f22f497803d6",
   "metadata": {},
   "outputs": [],
   "source": []
  },
  {
   "cell_type": "code",
   "execution_count": null,
   "id": "038cd09f-0a75-43f6-b81d-51c342598eb0",
   "metadata": {},
   "outputs": [],
   "source": []
  }
 ],
 "metadata": {
  "kernelspec": {
   "display_name": "Python 3 (ipykernel)",
   "language": "python",
   "name": "python3"
  },
  "language_info": {
   "codemirror_mode": {
    "name": "ipython",
    "version": 3
   },
   "file_extension": ".py",
   "mimetype": "text/x-python",
   "name": "python",
   "nbconvert_exporter": "python",
   "pygments_lexer": "ipython3",
   "version": "3.11.8"
  }
 },
 "nbformat": 4,
 "nbformat_minor": 5
}
